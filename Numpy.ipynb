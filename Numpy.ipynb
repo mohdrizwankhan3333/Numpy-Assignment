{
 "cells": [
  {
   "cell_type": "code",
   "execution_count": null,
   "id": "b445ae16-897e-496e-baf0-1340c1d51e32",
   "metadata": {},
   "outputs": [],
   "source": [
    "#1. What is a Python library? Why do we use Python libraries?\n",
    "A Python library is a collection of pre-written code, functions, and modules that\n",
    "can be imported into a Python script or program. These libraries provide a set of tools and functionalities \n",
    "that help developers perform common tasks without having to write code from scratch. Python libraries are an \n",
    "integral part of the Python programming ecosystem and contribute to the language's versatility and efficiency.\n",
    "\n",
    "Code Reusability: Python libraries contain reusable code components that can be easily incorporated into new \n",
    "projects. This promotes efficient development by avoiding the need to recreate common functionalities.\n",
    "\n",
    "Time Efficiency: By utilizing pre-existing libraries, developers can save time on coding and testing. Libraries\n",
    "are often well-tested and optimized, reducing the time required to implement specific features or solve particular \n",
    "problems.\n",
    "\n",
    "Community Contributions: Many Python libraries are open-source, developed and maintained by a community of programmers. This collaborative approach fosters the sharing of knowledge and expertise, allowing developers to benefit from collective efforts.\n",
    "\n",
    "Specialized Functionality: Python libraries are designed to address specific tasks or domains. For example, libraries like NumPy and pandas are tailored for data manipulation and analysis, while TensorFlow and PyTorch are specialized for machine learning. Using these libraries allows developers to leverage expertly crafted tools for their specific needs.\n",
    "\n",
    "Standardization: Libraries often follow established coding conventions and best practices. This ensures a level of standardization, making it easier for developers to work with code written by others and enhancing the overall maintainability of projects.\n",
    "\n",
    "Enhanced Performance: Many Python libraries are implemented in lower-level languages, such as C or C++, to optimize performance. Developers can benefit from these optimizations without needing to write low-level code themselves.\n",
    "\n",
    "Ecosystem Integration: Python libraries seamlessly integrate with the broader Python ecosystem. This interoperability allows developers to combine different libraries to create comprehensive solutions for various applications.\n"
   ]
  },
  {
   "cell_type": "code",
   "execution_count": null,
   "id": "0624be12-97fd-4284-a4f3-4eed684bee8c",
   "metadata": {},
   "outputs": [],
   "source": [
    "#2. What is the difference between Numpy array an^ List?\n",
    "NumPy arrays and Python lists are both used to store collections of items, but they have several key differences in terms of functionality, performance, and usage. Here are some of the main distinctions between NumPy arrays and lists:\n",
    "\n",
    "Data Type:\n",
    "\n",
    "NumPy Array: NumPy arrays are homogeneous, meaning all elements must be of the same data type. This homogeneity allows for more efficient storage and manipulation of large datasets.\n",
    "List: Python lists can contain elements of different data types. This flexibility is useful in certain situations but can lead to less efficient performance when working with large datasets or numerical computations.\n",
    "Performance:\n",
    "\n",
    "NumPy Array: NumPy arrays are more efficient for numerical operations and large datasets. NumPy is implemented in C and allows for vectorized operations, which means that operations are performed on entire arrays at once, leading to improved performance.\n",
    "List: Lists are more general-purpose and are less efficient than NumPy arrays for numerical operations. Lists require more memory and may be slower when working with large datasets or performing numerical computations.\n",
    "Functionality:\n",
    "\n",
    "NumPy Array: NumPy provides a wide range of mathematical operations and functions that can be applied directly to arrays, such as matrix multiplication, linear algebra operations, statistical functions, and more.\n",
    "List: Lists offer basic operations for general-purpose programming but lack the extensive mathematical functionality provided by NumPy.\n"
   ]
  },
  {
   "cell_type": "code",
   "execution_count": 7,
   "id": "72eb536c-ea15-4725-9a5e-6670f2eaa62f",
   "metadata": {},
   "outputs": [
    {
     "name": "stdout",
     "output_type": "stream",
     "text": [
      "(3, 4) 12 2\n",
      "[1 2 3 4]\n",
      "12\n"
     ]
    }
   ],
   "source": [
    "'''3. Find the shape, size and dimension of the following array?\n",
    "[[1, 2, 3, 4],\n",
    "[5, 6, 7, 8],\n",
    "[9, 10, 11, 12]]'''\n",
    "\n",
    "import numpy as np\n",
    "arr=np.array([[1, 2, 3, 4],\n",
    "[5, 6, 7, 8],\n",
    "[9, 10, 11, 12]])\n",
    "print(np.shape(arr),np.size(arr),np.ndim(arr))\n",
    "'''4. Write python code to access the first row of the following array?\n",
    "[[1, 2, 3, 4]\n",
    "[5, 6, 7, 8],\n",
    "[9, 10, 11, 12]]'''\n",
    "arr1=np.array([[1, 2, 3, 4],\n",
    "[5, 6, 7, 8],\n",
    "[9, 10, 11, 12]])\n",
    "print(arr1[0])\n",
    "'''5. How do you access the element at the third row and fourth column from the given numpy array?\n",
    "[[1, 2, 3, 4],\n",
    "[5, 6, 7, 8],\n",
    "[9, 10, 11, 12]]'''\n",
    "ak=np.array([[1, 2, 3, 4],\n",
    "[5, 6, 7, 8],\n",
    "[9, 10, 11, 12]])\n",
    "element = arr1[2, 3]\n",
    "print(element)"
   ]
  },
  {
   "cell_type": "code",
   "execution_count": 10,
   "id": "4a1b0473-94d7-4d16-9040-25c1721787e7",
   "metadata": {},
   "outputs": [
    {
     "name": "stdout",
     "output_type": "stream",
     "text": [
      "[ 2  4  6  8 10 12]\n"
     ]
    }
   ],
   "source": [
    "'''6. Write code to extract all odd-indexed elements from the given numpy array?\n",
    "[[1, 2, 3, 4]\n",
    "[5, 6, 7, 8],\n",
    "[9, 10, 11, 12]]'''\n",
    "import numpy as np\n",
    "arr1 = np.array([[1, 2, 3, 4],\n",
    "                 [5, 6, 7, 8],\n",
    "                 [9, 10, 11, 12]])\n",
    "# Extracting all odd-indexed elements\n",
    "odd_indexed_elements = arr1[ :,1::2].flatten()\n",
    "print(odd_indexed_elements)"
   ]
  },
  {
   "cell_type": "code",
   "execution_count": 14,
   "id": "8f5ba35b-dec6-4006-93f2-db0a17fdc14b",
   "metadata": {},
   "outputs": [
    {
     "name": "stdout",
     "output_type": "stream",
     "text": [
      "[[1 0 0]\n",
      " [0 0 1]\n",
      " [1 0 0]]\n"
     ]
    }
   ],
   "source": [
    "#7. How can you generate a random 3x3 matrix with values between 0 and 1?\n",
    "arr=np.random.randint(0,2,(3,3))\n",
    "print(arr)"
   ]
  },
  {
   "cell_type": "code",
   "execution_count": null,
   "id": "c0339f8f-19cc-4271-9d8d-1f913d6f4c5a",
   "metadata": {},
   "outputs": [],
   "source": [
    "8. Describe the difference between np.random.randand np.random.randn?\n",
    "np.random.rand produces random numbers uniformly distributed between 0 and 1.\n",
    "np.random.randn produces random numbers from a standard normal distribution with mean 0 and standard deviation 1."
   ]
  },
  {
   "cell_type": "code",
   "execution_count": 22,
   "id": "356656b5-d1d9-4a17-b625-a829f0881316",
   "metadata": {},
   "outputs": [
    {
     "name": "stdout",
     "output_type": "stream",
     "text": [
      "2\n",
      "3\n"
     ]
    }
   ],
   "source": [
    "'''9. Write code to increase the dimension of the following array?\n",
    "[[1, 2, 3, 4]\n",
    "[5, 6, 7, 8],\n",
    "[9, 10, 11, 12]]'''\n",
    "arr=np.array([[1, 2, 3, 4],\n",
    "[5, 6, 7, 8],\n",
    "[9, 10, 11, 12]])\n",
    "print(np.ndim(arr))\n",
    "k=np.expand_dims(arr,axis=0)\n",
    "print(np.ndim(k))"
   ]
  },
  {
   "cell_type": "code",
   "execution_count": 23,
   "id": "b23d2918-e54f-4b78-9269-45eaab1c6db6",
   "metadata": {},
   "outputs": [
    {
     "name": "stdout",
     "output_type": "stream",
     "text": [
      "[[ 1  5  9]\n",
      " [ 2  6 10]\n",
      " [ 3  7 11]\n",
      " [ 4  8 12]]\n"
     ]
    }
   ],
   "source": [
    "'''10. How to transpose the following array in NumPy?\n",
    "10. How to transpose the following array in NumPy?\n",
    "[[1, 2, 3, 4]\n",
    "[5, 6, 7, 8],\n",
    "[9, 10, 11, 12]]'''\n",
    "arr=np.array([[1, 2, 3, 4],\n",
    "[5, 6, 7, 8],\n",
    "[9, 10, 11, 12]])\n",
    "print(arr.T)"
   ]
  },
  {
   "cell_type": "code",
   "execution_count": null,
   "id": "55da5267-cda0-4f2d-91dd-fbf6fafa1db3",
   "metadata": {},
   "outputs": [],
   "source": [
    "'''11. Consider the following matrix:\n",
    "Matrix A2 [[1, 2, 3, 4] [5, 6, 7, 8],[9, 10, 11, 12]]\n",
    "Matrix B2 [[1, 2, 3, 4] [5, 6, 7, 8],[9, 10, 11, 12]]\n",
    "Perform the following operation using Python1\n",
    ",+ I(dex wiLe multiplicatio'\n",
    "]+ Matix multiplicatio'\n",
    "+ Add both the maticK\n",
    "-+ Subtact matix B om \n",
    "+ Diide Matix B by A'''\n",
    "import numpy as np\n",
    "m1=np.array([[1, 2, 3, 4], [5, 6, 7, 8],[9, 10, 11, 12]])\n",
    "m2=np.array([[1, 2, 3, 4], [5, 6, 7, 8],[9, 10, 11, 12]])\n",
    "print(m1*m2)\n",
    "print(m1@m2)\n",
    "print(m1+m2)\n",
    "print(m2/m1)"
   ]
  },
  {
   "cell_type": "code",
   "execution_count": 35,
   "id": "eed2e486-a724-408f-8370-6687944e64f9",
   "metadata": {},
   "outputs": [
    {
     "name": "stdout",
     "output_type": "stream",
     "text": [
      "Original array:\n",
      "[1 2 3]\n",
      "Byte order:  =\n",
      "Swapped array:\n",
      "[256 512 768]\n",
      "Byte order:  =\n"
     ]
    }
   ],
   "source": [
    "'''12. Which function in Numpy can be used to swap the byte order of an array?\n",
    "The function in Numpy that can be used to swap the byte order of an array is numpy.ndarray.byteswap. This \n",
    "function swaps the byte order of the array's data if the machine's native byte order is different from \n",
    "the array's byte order.'''\n",
    "import numpy as np\n",
    "x = np.array([1, 2, 3], dtype=np.int16, order='F')\n",
    "print(\"Original array:\")\n",
    "print(x)\n",
    "print(\"Byte order: \", x.dtype.byteorder)\n",
    "x_swapped = x.byteswap()\n",
    "print(\"Swapped array:\")\n",
    "print(x_swapped)\n",
    "print(\"Byte order: \", x_swapped.dtype.byteorder)"
   ]
  },
  {
   "cell_type": "code",
   "execution_count": null,
   "id": "f8dc6a87-bc2c-4456-b70c-7f6e21565ba9",
   "metadata": {},
   "outputs": [],
   "source": [
    "13. What is the significance of the np.linalg.inv function?\n",
    "The numpy.linalg.inv function in Python is used to compute the inverse of a square matrix. \n",
    "The inverse of a matrix A is denoted as A^-1, and it is a matrix such that when A is multiplied by its inverse,\n",
    "the result is the identity matrix.\n",
    "The inverse of a matrix A is defined only if A is a square matrix and its determinant is not zero. \n",
    "If the determinant of A is zero, then A is a singular matrix and does not have an inverse.\n",
    "The numpy.linalg.inv function uses LU decomposition to compute the inverse of a matrix. The LU decomposition \n",
    "factorizes a matrix into a product of a lower triangular matrix and an upper triangular matrix, which can then \n",
    "be used to efficiently compute the inverse.\n",
    "\n",
    "import numpy as np\n",
    "\n",
    "# Create a numpy array\n",
    "A = np.array([[1, 2], [3, 4]])\n",
    "\n",
    "# Compute the inverse of A\n",
    "A_inv = np.linalg.inv(A)\n",
    "\n",
    "# Print the original matrix and its inverse\n",
    "print(\"Original matrix:\")\n",
    "print(A)\n",
    "print(\"Inverse of A:\")\n",
    "print(A_inv)\n",
    "\n",
    "# Verify that A * A_inv is the identity matrix\n",
    "I = np.dot(A, A_inv)\n",
    "print(\"A * A_inv:\")\n",
    "print(I)"
   ]
  },
  {
   "cell_type": "code",
   "execution_count": null,
   "id": "b88b716f-8485-41f3-9fe5-e9feb83b9c1a",
   "metadata": {},
   "outputs": [],
   "source": [
    "14. What does the np.reshape function do, and how is it used?\n",
    "The numpy.reshape function in Python is used to reshape an existing numpy array into a new shape while \n",
    "preserving its data. The numpy.reshape function takes two arguments: the array to be reshaped and the \n",
    "desired shape of the new array.\n",
    "By specifying the new shape as a tuple of integers, where the length of the tuple must match the total number \n",
    "of elements in the array.\n",
    "By specifying the new shape as a tuple with -1 in one or more positions, \n",
    "indicating that the corresponding dimension can be inferred from the length of the array\n",
    "and the other dimensions specified."
   ]
  },
  {
   "cell_type": "code",
   "execution_count": null,
   "id": "7502d727-9bda-46d3-b69e-76511880ce43",
   "metadata": {},
   "outputs": [],
   "source": [
    "15. What is broadcasting in Numpy?\n",
    "Broadcasting in NumPy is a set of rules that allows numpy to work with arrays of different shapes when \n",
    "performing arithmetic operations. Broadcasting is a powerful feature that enables you to perform arithmetic \n",
    "operations between arrays of different shapes, as long as they are compatible."
   ]
  },
  {
   "cell_type": "code",
   "execution_count": null,
   "id": "aac99d36-166e-4af4-9e37-63af03f4b213",
   "metadata": {},
   "outputs": [],
   "source": []
  }
 ],
 "metadata": {
  "kernelspec": {
   "display_name": "Python 3 (ipykernel)",
   "language": "python",
   "name": "python3"
  },
  "language_info": {
   "codemirror_mode": {
    "name": "ipython",
    "version": 3
   },
   "file_extension": ".py",
   "mimetype": "text/x-python",
   "name": "python",
   "nbconvert_exporter": "python",
   "pygments_lexer": "ipython3",
   "version": "3.10.8"
  }
 },
 "nbformat": 4,
 "nbformat_minor": 5
}
